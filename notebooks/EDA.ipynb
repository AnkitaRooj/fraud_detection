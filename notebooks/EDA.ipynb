{
 "cells": [
  {
   "cell_type": "code",
   "execution_count": null,
   "id": "2b582f61",
   "metadata": {},
   "outputs": [],
   "source": [
    "import numpy as np \n",
    "import pandas as pd\n",
    "import matplotlib.pyplot as plt\n",
    "import seaborn as sns\n",
    "from sklearn.model_selection import train_test_split"
   ]
  },
  {
   "cell_type": "code",
   "execution_count": null,
   "id": "bdb42995",
   "metadata": {},
   "outputs": [],
   "source": [
    "# eda on data -> build models -> isolation forest , Local Outlier Factor (LOF) , xgboost , lightgbm -> mlflow, dvc -> streamlit app"
   ]
  },
  {
   "cell_type": "code",
   "execution_count": null,
   "id": "f1b76e85",
   "metadata": {},
   "outputs": [],
   "source": [
    "df = pd.read_csv('../paySim/PaySim_log.csv')\n",
    "df.head()"
   ]
  },
  {
   "cell_type": "code",
   "execution_count": null,
   "id": "ffb1281f",
   "metadata": {},
   "outputs": [],
   "source": [
    "df.shape"
   ]
  },
  {
   "cell_type": "code",
   "execution_count": null,
   "id": "69f72128",
   "metadata": {},
   "outputs": [],
   "source": [
    "df.isna().sum()"
   ]
  },
  {
   "cell_type": "code",
   "execution_count": null,
   "id": "bea6b41c",
   "metadata": {},
   "outputs": [],
   "source": [
    "df.duplicated().sum()"
   ]
  },
  {
   "cell_type": "code",
   "execution_count": null,
   "id": "d2a45262",
   "metadata": {},
   "outputs": [],
   "source": [
    "df['isFraud'].value_counts()"
   ]
  },
  {
   "cell_type": "code",
   "execution_count": null,
   "id": "32d98e92",
   "metadata": {},
   "outputs": [],
   "source": [
    "sns.countplot(x='isFraud', data=df, hue='isFraud')\n",
    "plt.show()"
   ]
  },
  {
   "cell_type": "code",
   "execution_count": null,
   "id": "c0d64398",
   "metadata": {},
   "outputs": [],
   "source": [
    "df['isFlaggedFraud'].value_counts()"
   ]
  },
  {
   "cell_type": "code",
   "execution_count": null,
   "id": "3e9c0b66",
   "metadata": {},
   "outputs": [],
   "source": [
    "print(df['type'].value_counts())\n",
    "transaction_types = df['type'].value_counts()"
   ]
  },
  {
   "cell_type": "code",
   "execution_count": null,
   "id": "bcdc9b57",
   "metadata": {},
   "outputs": [],
   "source": [
    "plt.pie(transaction_types.values, labels=transaction_types.index, autopct='%1.1f%%') # type: ignore\n",
    "plt.title('Transaction Type Distribution')\n",
    "plt.show()\n"
   ]
  },
  {
   "cell_type": "code",
   "execution_count": null,
   "id": "675696f4",
   "metadata": {},
   "outputs": [],
   "source": [
    "df.groupby('type')['isFraud'].mean().sort_values(ascending=False)"
   ]
  },
  {
   "cell_type": "code",
   "execution_count": null,
   "id": "f9aa3a1d",
   "metadata": {},
   "outputs": [],
   "source": [
    "fraud_by_type = df.groupby('type')['isFraud'].mean().sort_values(ascending=False)\n",
    "plt.figure(figsize=(10,6))\n",
    "sns.barplot(x=fraud_by_type.index, y=fraud_by_type.values, hue=fraud_by_type.index,palette='Set1')\n",
    "plt.title('Fraud Rate by Transaction Type')\n",
    "plt.xticks(rotation=45)\n",
    "plt.tight_layout()\n",
    "plt.show()"
   ]
  },
  {
   "cell_type": "code",
   "execution_count": null,
   "id": "c5ff1292",
   "metadata": {},
   "outputs": [],
   "source": [
    "df['hour'] = df['step'] % 24\n",
    "df['day'] = (df['step'] // 24) % 7\n",
    "df['is_weekend'] = (df['day'] >= 5).astype(int)\n",
    "df.head()"
   ]
  },
  {
   "cell_type": "code",
   "execution_count": null,
   "id": "dc4c8c1a",
   "metadata": {},
   "outputs": [],
   "source": [
    "fraud_by_hour = df.groupby('hour')['isFraud'].mean()\n",
    "plt.plot(fraud_by_hour.index, fraud_by_hour.values, marker='o') # type: ignore\n",
    "plt.xlabel('Hour of Day')\n",
    "plt.ylabel('Fraud Rate')\n",
    "plt.title('Fraud Rate by Hour')\n",
    "plt.show()"
   ]
  },
  {
   "cell_type": "code",
   "execution_count": null,
   "id": "a90a55fa",
   "metadata": {},
   "outputs": [],
   "source": [
    "volume_by_hour = df.groupby('hour').size()\n",
    "plt.plot(volume_by_hour.index, volume_by_hour.values, marker='o', color='orange')\n",
    "plt.xlabel('Hour of Day')\n",
    "plt.ylabel('Transaction Volume')\n",
    "plt.title('Transaction Volume by Hour')\n",
    "plt.show()"
   ]
  },
  {
   "cell_type": "code",
   "execution_count": null,
   "id": "c6b2fb2c",
   "metadata": {},
   "outputs": [],
   "source": [
    "fraud_by_day = df.groupby('day')['isFraud'].mean()\n",
    "sns.barplot(x = fraud_by_day.index, y = fraud_by_day.values, hue=fraud_by_day.index, palette = 'Set1') # type: ignore\n",
    "plt.xlabel('Day of Week')\n",
    "plt.ylabel('Fraud Rate')\n",
    "plt.title('Fraud Rate by Day of Week')\n",
    "plt.show()"
   ]
  },
  {
   "cell_type": "code",
   "execution_count": null,
   "id": "5698260a",
   "metadata": {},
   "outputs": [],
   "source": [
    "fraud_weekend = df.groupby('is_weekend')['isFraud'].mean()\n",
    "sns.barplot(x = ['Weekday', 'Weekend'], y = fraud_weekend.values, hue=['Weekday', 'Weekend'], palette = 'Set2') # type: ignore\n",
    "plt.ylabel('Fraud Rate')\n",
    "plt.title('Fraud Rate: Weekend vs Weekday')\n",
    "plt.show()"
   ]
  },
  {
   "cell_type": "code",
   "execution_count": null,
   "id": "1696fa6e",
   "metadata": {},
   "outputs": [],
   "source": [
    "amount_by_step = df.groupby('step')['amount'].mean()\n",
    "plt.plot(amount_by_step.index, amount_by_step.values, alpha=0.7) # type: ignore\n",
    "plt.xlabel('Time Step')\n",
    "plt.ylabel('Average Transaction Amount')\n",
    "plt.title('Transaction Amount Trend Over Time')\n",
    "plt.show()"
   ]
  },
  {
   "cell_type": "code",
   "execution_count": null,
   "id": "a473bdd4",
   "metadata": {},
   "outputs": [],
   "source": [
    "fraud_transactions = df[df['isFraud'] == 1]\n",
    "fraud_by_step = fraud_transactions.groupby('step').size()\n",
    "plt.plot(fraud_by_step.index, fraud_by_step.values, color='red', alpha=0.7) # type: ignore\n",
    "plt.xlabel('Time Step')\n",
    "plt.ylabel('Number of Fraud Transactions')\n",
    "plt.title('Fraud Transactions Over Time')\n",
    "plt.show()"
   ]
  },
  {
   "cell_type": "code",
   "execution_count": null,
   "id": "6f9a6f49",
   "metadata": {},
   "outputs": [],
   "source": [
    "plt.hist(df['amount'], bins=50, edgecolor='black', alpha=0.7)\n",
    "plt.xlabel('Transaction Amount')\n",
    "plt.ylabel('Frequency')\n",
    "plt.title('Distribution of Transaction Amounts')\n",
    "plt.yscale('log')\n",
    "plt.show()"
   ]
  },
  {
   "cell_type": "code",
   "execution_count": null,
   "id": "95d20bfb",
   "metadata": {},
   "outputs": [],
   "source": [
    "for fraud_status in [0, 1]:\n",
    "    subset = df[df['isFraud'] == fraud_status]\n",
    "    plt.hist(subset['amount'], bins=50, alpha=0.6, \n",
    "             label=f'Fraud: {fraud_status}', log=True)\n",
    "plt.xlabel('Transaction Amount')\n",
    "plt.ylabel('Frequency (log scale)')\n",
    "plt.title('Amount Distribution by Fraud Status')\n",
    "plt.legend()"
   ]
  },
  {
   "cell_type": "code",
   "execution_count": null,
   "id": "3a6f19a3",
   "metadata": {},
   "outputs": [],
   "source": [
    "sns.boxplot(x='isFraud', y='amount', data=df)\n",
    "plt.yscale('log')\n",
    "plt.title('Transaction Amount by Fraud Status')\n",
    "plt.show()"
   ]
  },
  {
   "cell_type": "code",
   "execution_count": null,
   "id": "6a208908",
   "metadata": {},
   "outputs": [],
   "source": [
    "top_transactions = df.nlargest(100, 'amount')\n",
    "sns.scatterplot(x='step', y='amount', hue='isFraud', data=top_transactions)\n",
    "plt.title('Top 100 Largest Transactions')\n",
    "plt.ylabel('Amount')\n",
    "plt.show()"
   ]
  },
  {
   "cell_type": "code",
   "execution_count": null,
   "id": "6bbcd46a",
   "metadata": {},
   "outputs": [],
   "source": [
    "fraud_stats = df.groupby('isFraud')['amount'].agg(['mean', 'median', 'std', 'min', 'max'])\n",
    "fraud_stats.plot(kind='bar', subplots=True, layout=(2, 3), figsize=(15, 10))\n",
    "plt.tight_layout()\n"
   ]
  },
  {
   "cell_type": "code",
   "execution_count": null,
   "id": "34772144",
   "metadata": {},
   "outputs": [],
   "source": [
    "for fraud_status in [0, 1]:\n",
    "    subset = df[df['isFraud'] == fraud_status]['amount']\n",
    "    plt.hist(subset, bins=1000, cumulative=True, density=True, \n",
    "             histtype='step', alpha=0.8, label=f'Fraud: {fraud_status}')\n",
    "plt.xscale('log')\n",
    "plt.xlabel('Transaction Amount (log scale)')\n",
    "plt.ylabel('CDF')\n",
    "plt.title('Cumulative Distribution of Amounts')\n",
    "plt.legend()"
   ]
  },
  {
   "cell_type": "code",
   "execution_count": null,
   "id": "cfc84310",
   "metadata": {},
   "outputs": [],
   "source": [
    "# Balance features analysis\n",
    "balance_features = ['oldbalanceOrg', 'newbalanceOrig', 'oldbalanceDest', 'newbalanceDest']\n",
    "\n",
    "plt.figure(figsize=(15, 10))\n",
    "\n",
    "for i, feature in enumerate(balance_features, 1):\n",
    "    plt.subplot(2, 2, i)\n",
    "    plt.hist(np.log1p(df[feature]), bins=50, alpha=0.7, edgecolor='black')\n",
    "    plt.xlabel(f'Log({feature} + 1)')\n",
    "    plt.ylabel('Frequency')\n",
    "    plt.title(f'Distribution of {feature}')\n",
    "\n",
    "plt.tight_layout()\n",
    "plt.show()"
   ]
  },
  {
   "cell_type": "code",
   "execution_count": null,
   "id": "3dbc51a2",
   "metadata": {},
   "outputs": [],
   "source": [
    "df['balance_change_org'] = df['newbalanceOrig'] - df['oldbalanceOrg']\n",
    "df['balance_change_dest'] = df['newbalanceDest'] - df['oldbalanceDest']\n",
    "\n",
    "plt.figure(figsize=(12, 5))\n",
    "\n",
    "plt.subplot(1, 2, 1)\n",
    "sns.boxplot(x='isFraud', y='balance_change_org', data=df)\n",
    "plt.title('Originator Balance Change by Fraud Status')\n",
    "\n",
    "plt.subplot(1, 2, 2)\n",
    "sns.boxplot(x='isFraud', y='balance_change_dest', data=df)\n",
    "plt.title('Destination Balance Change by Fraud Status')\n",
    "\n",
    "plt.tight_layout()\n",
    "plt.show()"
   ]
  },
  {
   "cell_type": "code",
   "execution_count": null,
   "id": "d72934cd",
   "metadata": {},
   "outputs": [],
   "source": [
    "df.head()"
   ]
  },
  {
   "cell_type": "code",
   "execution_count": null,
   "id": "a2e65025",
   "metadata": {},
   "outputs": [],
   "source": [
    "customer_orig_stats = df.groupby('nameOrig').agg({\n",
    "    'amount': ['count', 'mean', 'std', 'sum'],\n",
    "    'isFraud': 'mean'\n",
    "}).round(2)\n",
    "\n",
    "customer_dest_stats = df.groupby('nameDest').agg({\n",
    "    'amount': ['count', 'mean', 'std', 'sum'],\n",
    "    'isFraud': 'mean'\n",
    "}).round(2)"
   ]
  },
  {
   "cell_type": "code",
   "execution_count": null,
   "id": "bdc18596",
   "metadata": {},
   "outputs": [],
   "source": [
    "print(\"Top 10 Originators by Transaction Count:\")\n",
    "print(customer_orig_stats.nlargest(10, ('amount', 'count'))) # type: ignore\n",
    "\n",
    "print(\"\\nTop 10 Destinations by Transaction Count:\")\n",
    "print(customer_dest_stats.nlargest(10, ('amount', 'count'))) # type: ignore"
   ]
  },
  {
   "cell_type": "code",
   "execution_count": null,
   "id": "063405ad",
   "metadata": {},
   "outputs": [],
   "source": [
    "transaction_counts_orig = df['nameOrig'].value_counts()\n",
    "plt.hist(transaction_counts_orig, bins=50, edgecolor='black', alpha=0.7)\n",
    "plt.xlabel('Transactions per Originator')\n",
    "plt.ylabel('Frequency')\n",
    "plt.title('Distribution of Transactions per Originator')\n",
    "plt.yscale('log')\n",
    "plt.show()"
   ]
  },
  {
   "cell_type": "code",
   "execution_count": null,
   "id": "cf6c1047",
   "metadata": {},
   "outputs": [],
   "source": [
    "transaction_counts_dest = df['nameDest'].value_counts()\n",
    "plt.hist(transaction_counts_dest, bins=50, edgecolor='black', alpha=0.7)\n",
    "plt.xlabel('Transactions per Destination')\n",
    "plt.ylabel('Frequency')\n",
    "plt.title('Distribution of Transactions per Destination')\n",
    "plt.yscale('log')\n",
    "plt.show()"
   ]
  },
  {
   "cell_type": "code",
   "execution_count": null,
   "id": "d6d35f75",
   "metadata": {},
   "outputs": [],
   "source": [
    "df['orig_txn_count'] = df.groupby('nameOrig')['nameOrig'].transform('count')\n",
    "activity_bins = pd.cut(df['orig_txn_count'], bins=[0, 1, 5, 10, 50, 100, float('inf')])\n",
    "fraud_by_activity = df.groupby(activity_bins)['isFraud'].mean()\n",
    "fraud_by_activity.plot(kind='bar')\n",
    "plt.xlabel('Transaction Count Bins')\n",
    "plt.ylabel('Fraud Rate')\n",
    "plt.title('Fraud Rate by Customer Activity Level')\n",
    "plt.xticks(rotation=45)\n",
    "plt.show()"
   ]
  },
  {
   "cell_type": "code",
   "execution_count": null,
   "id": "9338b1aa",
   "metadata": {},
   "outputs": [],
   "source": [
    "numeric_features = ['amount', 'oldbalanceOrg', 'newbalanceOrig', \n",
    "                   'oldbalanceDest', 'newbalanceDest', 'balance_change_org', \n",
    "                   'balance_change_dest']\n",
    "correlation_matrix = df[numeric_features + ['isFraud']].corr()\n",
    "plt.figure(figsize=(10, 8))\n",
    "sns.heatmap(correlation_matrix, annot=True, cmap='coolwarm', center=0,\n",
    "            square=True, fmt='.2f')\n",
    "plt.title('Correlation Matrix')\n",
    "plt.tight_layout()\n",
    "plt.show()"
   ]
  },
  {
   "cell_type": "code",
   "execution_count": null,
   "id": "8042dc09",
   "metadata": {},
   "outputs": [],
   "source": [
    "fraud_sample = df[df['isFraud'] == 1].sample(min(1000, len(df[df['isFraud'] == 1])))\n",
    "non_fraud_sample = df[df['isFraud'] == 0].sample(min(1000, len(fraud_sample)))\n",
    "\n",
    "sample_df = pd.concat([fraud_sample, non_fraud_sample])\n",
    "\n",
    "plt.figure(figsize=(12, 10))\n",
    "sns.pairplot(sample_df, vars=numeric_features[:4], hue='isFraud', \n",
    "             diag_kind='hist', palette='viridis', plot_kws={'alpha': 0.6})\n",
    "plt.suptitle('Pairplot of Numerical Features (Sampled)', y=1.02)\n",
    "plt.show()"
   ]
  },
  {
   "cell_type": "code",
   "execution_count": null,
   "id": "c73b6bdf",
   "metadata": {},
   "outputs": [],
   "source": [
    "df['amount_to_balance_ratio'] = df['amount'] / (df['oldbalanceOrg'] + 1)\n",
    "df['is_zero_balance_orig'] = (df['oldbalanceOrg'] == 0).astype(int)\n",
    "df['is_zero_balance_dest'] = (df['oldbalanceDest'] == 0).astype(int)\n",
    "\n",
    "patterns_to_analyze = [\n",
    "    'amount_to_balance_ratio',\n",
    "    'is_zero_balance_orig',\n",
    "    'is_zero_balance_dest'\n",
    "]\n",
    "plt.figure(figsize=(15, 5))\n",
    "\n",
    "for i, pattern in enumerate(patterns_to_analyze, 1):\n",
    "    plt.subplot(1, 3, i)\n",
    "    \n",
    "    if 'ratio' in pattern:\n",
    "        # Log scale for ratios\n",
    "        for fraud_status in [0, 1]:\n",
    "            subset = df[df['isFraud'] == fraud_status][pattern]\n",
    "            plt.hist(np.log1p(subset), bins=50, alpha=0.6, \n",
    "                     label=f'Fraud: {fraud_status}', density=True)\n",
    "        plt.xlabel(f'Log({pattern} + 1)')\n",
    "    else:\n",
    "        fraud_rates = df.groupby(pattern)['isFraud'].mean()\n",
    "        plt.bar(fraud_rates.index, fraud_rates.values)\n",
    "        plt.xlabel(pattern)\n",
    "    \n",
    "    plt.ylabel('Density' if 'ratio' in pattern else 'Fraud Rate')\n",
    "    plt.title(f'Fraud Analysis: {pattern}')\n",
    "    if 'ratio' in pattern:\n",
    "        plt.legend()\n",
    "\n",
    "plt.tight_layout()\n",
    "plt.show()\n"
   ]
  },
  {
   "cell_type": "code",
   "execution_count": null,
   "id": "706223e8",
   "metadata": {},
   "outputs": [],
   "source": [
    "print(\"Comparison of Flagged Fraud vs Actual Fraud:\")\n",
    "confusion_matrix = pd.crosstab(df['isFlaggedFraud'], df['isFraud'])\n",
    "print(confusion_matrix)\n",
    "\n",
    "precision = confusion_matrix.loc[1, 1] / confusion_matrix.loc[1].sum() if 1 in confusion_matrix.index else 0 # type: ignore\n",
    "recall = confusion_matrix.loc[1, 1] / confusion_matrix.loc[:, 1].sum() if 1 in confusion_matrix.index else 0\n",
    "print(f\"\\nFlagged Fraud Precision: {precision:.2%}\")\n",
    "print(f\"Flagged Fraud Recall: {recall:.2%}\")"
   ]
  },
  {
   "cell_type": "code",
   "execution_count": null,
   "id": "4de6744b",
   "metadata": {},
   "outputs": [],
   "source": [
    "from scipy.stats import mannwhitneyu, chi2_contingency\n",
    "\n",
    "# Statistical tests for significant differences\n",
    "print(\"=== STATISTICAL SIGNIFICANCE TESTS ===\")\n",
    "\n",
    "# Test 1: Amount difference between fraud and non-fraud\n",
    "fraud_amounts = df[df['isFraud'] == 1]['amount']\n",
    "non_fraud_amounts = df[df['isFraud'] == 0]['amount']\n",
    "stat, p_value = mannwhitneyu(fraud_amounts, non_fraud_amounts)\n",
    "print(f\"Amount difference (Mann-Whitney U): p-value = {p_value:.2e}\")\n",
    "\n",
    "# Test 2: Transaction type and fraud association\n",
    "contingency_table = pd.crosstab(df['type'], df['isFraud'])\n",
    "chi2, p_value, dof, expected = chi2_contingency(contingency_table)\n",
    "print(f\"Transaction type association (Chi-square): p-value = {p_value:.2e}\")\n",
    "\n",
    "# Key business insights summary\n",
    "print(\"\\n=== KEY BUSINESS INSIGHTS ===\")\n",
    "print(f\"1. Overall fraud rate: {df['isFraud'].mean():.2%}\")\n",
    "print(f\"2. Most common fraud type: {fraud_by_type.index[0]} ({fraud_by_type.iloc[0]:.2%} fraud rate)\")\n",
    "print(f\"3. Peak fraud hour: {fraud_by_hour.idxmax()} ({fraud_by_hour.max():.2%} fraud rate)\")\n",
    "print(f\"4. Average fraud transaction amount: ${fraud_amounts.median():.2f}\")\n",
    "print(f\"5. Fraud detection system recall: {recall:.2%}\")\n",
    "\n",
    "# Risk factors identification\n",
    "print(\"\\n=== IDENTIFIED RISK FACTORS ===\")\n",
    "risk_factors = []\n",
    "if fraud_by_type.max() > 0.1:\n",
    "    risk_factors.append(f\"High fraud concentration in {fraud_by_type.index[0]} transactions\")\n",
    "if fraud_by_hour.max() > fraud_by_hour.median() * 2:\n",
    "    risk_factors.append(f\"Temporal clustering of fraud during hour {fraud_by_hour.idxmax()}\")\n",
    "if df['amount_to_balance_ratio'].max() > 10:\n",
    "    risk_factors.append(\"Large transactions relative to account balance\")\n",
    "\n",
    "for i, factor in enumerate(risk_factors, 1):\n",
    "    print(f\"{i}. {factor}\")"
   ]
  },
  {
   "cell_type": "code",
   "execution_count": null,
   "id": "2f30356e",
   "metadata": {},
   "outputs": [],
   "source": [
    "df.head()"
   ]
  },
  {
   "cell_type": "code",
   "execution_count": null,
   "id": "c9e6bb28",
   "metadata": {},
   "outputs": [],
   "source": [
    "import os\n",
    "os.makedirs('processeddataset', exist_ok=True)"
   ]
  },
  {
   "cell_type": "code",
   "execution_count": null,
   "id": "bc0bb563",
   "metadata": {},
   "outputs": [],
   "source": [
    "df.to_csv('processeddataset/processed_paySim.csv', index=False)"
   ]
  }
 ],
 "metadata": {
  "kernelspec": {
   "display_name": "vfraud",
   "language": "python",
   "name": "python3"
  },
  "language_info": {
   "codemirror_mode": {
    "name": "ipython",
    "version": 3
   },
   "file_extension": ".py",
   "mimetype": "text/x-python",
   "name": "python",
   "nbconvert_exporter": "python",
   "pygments_lexer": "ipython3",
   "version": "3.13.3"
  }
 },
 "nbformat": 4,
 "nbformat_minor": 5
}
